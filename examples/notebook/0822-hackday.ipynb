{
 "cells": [
  {
   "cell_type": "code",
   "execution_count": 22,
   "metadata": {
    "colab": {
     "base_uri": "https://localhost:8080/"
    },
    "executionInfo": {
     "elapsed": 542,
     "status": "ok",
     "timestamp": 1755861157123,
     "user": {
      "displayName": "민웅기",
      "userId": "09229203889816762802"
     },
     "user_tz": -540
    },
    "id": "f-Fn9Je_oAtD",
    "outputId": "72d9e27d-4c90-496c-85d2-ee2664f61dad"
   },
   "outputs": [
    {
     "name": "stdout",
     "output_type": "stream",
     "text": [
      "Cloning into 'aws-hackday-micro'...\n",
      "remote: Enumerating objects: 367, done.\u001b[K\n",
      "remote: Counting objects: 100% (367/367), done.\u001b[K\n",
      "remote: Compressing objects: 100% (244/244), done.\u001b[K\n",
      "remote: Total 367 (delta 173), reused 286 (delta 103), pack-reused 0 (from 0)\u001b[K\n",
      "Receiving objects: 100% (367/367), 526.33 KiB | 4.83 MiB/s, done.\n",
      "Resolving deltas: 100% (173/173), done.\n"
     ]
    }
   ],
   "source": [
    "!git clone https://github.com/friendliai/aws-hackday-micro.git"
   ]
  },
  {
   "cell_type": "code",
   "execution_count": 23,
   "metadata": {
    "colab": {
     "base_uri": "https://localhost:8080/"
    },
    "executionInfo": {
     "elapsed": 5569,
     "status": "ok",
     "timestamp": 1755861164351,
     "user": {
      "displayName": "민웅기",
      "userId": "09229203889816762802"
     },
     "user_tz": -540
    },
    "id": "PFnKLmvwrwrX",
    "outputId": "2054cb47-540c-499b-d1d6-bc37d8a76e3b"
   },
   "outputs": [
    {
     "name": "stdout",
     "output_type": "stream",
     "text": [
      "Requirement already satisfied: friendli-app in /usr/local/lib/python3.12/dist-packages (0.0.2)\n",
      "Requirement already satisfied: typer>=0.15.0 in /usr/local/lib/python3.12/dist-packages (from friendli-app) (0.16.0)\n",
      "Requirement already satisfied: rich>=13.9.0 in /usr/local/lib/python3.12/dist-packages (from friendli-app) (13.9.4)\n",
      "Requirement already satisfied: pydantic>=2.10.0 in /usr/local/lib/python3.12/dist-packages (from friendli-app) (2.11.7)\n",
      "Requirement already satisfied: httpx>=0.28.0 in /usr/local/lib/python3.12/dist-packages (from httpx[http2]>=0.28.0->friendli-app) (0.28.1)\n",
      "Requirement already satisfied: trogon>=0.6.0 in /usr/local/lib/python3.12/dist-packages (from friendli-app) (0.6.0)\n",
      "Requirement already satisfied: questionary>=2.0.1 in /usr/local/lib/python3.12/dist-packages (from friendli-app) (2.1.0)\n",
      "Requirement already satisfied: graphql-core>=3.2.5 in /usr/local/lib/python3.12/dist-packages (from friendli-app) (3.2.6)\n",
      "Requirement already satisfied: websockets>=14.0 in /usr/local/lib/python3.12/dist-packages (from friendli-app) (15.0.1)\n",
      "Requirement already satisfied: eval-type-backport>=0.2.0 in /usr/local/lib/python3.12/dist-packages (from friendli-app) (0.2.2)\n",
      "Requirement already satisfied: fastapi>=0.115.0 in /usr/local/lib/python3.12/dist-packages (from friendli-app) (0.116.1)\n",
      "Requirement already satisfied: uvicorn>=0.32.0 in /usr/local/lib/python3.12/dist-packages (from uvicorn[standard]>=0.32.0->friendli-app) (0.35.0)\n",
      "Requirement already satisfied: starlette>=0.41.0 in /usr/local/lib/python3.12/dist-packages (from friendli-app) (0.47.2)\n",
      "Requirement already satisfied: typing-extensions>=4.8.0 in /usr/local/lib/python3.12/dist-packages (from fastapi>=0.115.0->friendli-app) (4.14.1)\n",
      "Requirement already satisfied: anyio in /usr/local/lib/python3.12/dist-packages (from httpx>=0.28.0->httpx[http2]>=0.28.0->friendli-app) (4.10.0)\n",
      "Requirement already satisfied: certifi in /usr/local/lib/python3.12/dist-packages (from httpx>=0.28.0->httpx[http2]>=0.28.0->friendli-app) (2025.8.3)\n",
      "Requirement already satisfied: httpcore==1.* in /usr/local/lib/python3.12/dist-packages (from httpx>=0.28.0->httpx[http2]>=0.28.0->friendli-app) (1.0.9)\n",
      "Requirement already satisfied: idna in /usr/local/lib/python3.12/dist-packages (from httpx>=0.28.0->httpx[http2]>=0.28.0->friendli-app) (3.10)\n",
      "Requirement already satisfied: h11>=0.16 in /usr/local/lib/python3.12/dist-packages (from httpcore==1.*->httpx>=0.28.0->httpx[http2]>=0.28.0->friendli-app) (0.16.0)\n",
      "Requirement already satisfied: h2<5,>=3 in /usr/local/lib/python3.12/dist-packages (from httpx[http2]>=0.28.0->friendli-app) (4.2.0)\n",
      "Requirement already satisfied: annotated-types>=0.6.0 in /usr/local/lib/python3.12/dist-packages (from pydantic>=2.10.0->friendli-app) (0.7.0)\n",
      "Requirement already satisfied: pydantic-core==2.33.2 in /usr/local/lib/python3.12/dist-packages (from pydantic>=2.10.0->friendli-app) (2.33.2)\n",
      "Requirement already satisfied: typing-inspection>=0.4.0 in /usr/local/lib/python3.12/dist-packages (from pydantic>=2.10.0->friendli-app) (0.4.1)\n",
      "Requirement already satisfied: prompt_toolkit<4.0,>=2.0 in /usr/local/lib/python3.12/dist-packages (from questionary>=2.0.1->friendli-app) (3.0.51)\n",
      "Requirement already satisfied: markdown-it-py>=2.2.0 in /usr/local/lib/python3.12/dist-packages (from rich>=13.9.0->friendli-app) (4.0.0)\n",
      "Requirement already satisfied: pygments<3.0.0,>=2.13.0 in /usr/local/lib/python3.12/dist-packages (from rich>=13.9.0->friendli-app) (2.19.2)\n",
      "Requirement already satisfied: click>=8.0.0 in /usr/local/lib/python3.12/dist-packages (from trogon>=0.6.0->friendli-app) (8.2.1)\n",
      "Requirement already satisfied: textual>=0.61.0 in /usr/local/lib/python3.12/dist-packages (from trogon>=0.6.0->friendli-app) (5.3.0)\n",
      "Requirement already satisfied: shellingham>=1.3.0 in /usr/local/lib/python3.12/dist-packages (from typer>=0.15.0->friendli-app) (1.5.4)\n",
      "Requirement already satisfied: httptools>=0.6.3 in /usr/local/lib/python3.12/dist-packages (from uvicorn[standard]>=0.32.0->friendli-app) (0.6.4)\n",
      "Requirement already satisfied: python-dotenv>=0.13 in /usr/local/lib/python3.12/dist-packages (from uvicorn[standard]>=0.32.0->friendli-app) (1.1.1)\n",
      "Requirement already satisfied: pyyaml>=5.1 in /usr/local/lib/python3.12/dist-packages (from uvicorn[standard]>=0.32.0->friendli-app) (6.0.2)\n",
      "Requirement already satisfied: uvloop>=0.15.1 in /usr/local/lib/python3.12/dist-packages (from uvicorn[standard]>=0.32.0->friendli-app) (0.21.0)\n",
      "Requirement already satisfied: watchfiles>=0.13 in /usr/local/lib/python3.12/dist-packages (from uvicorn[standard]>=0.32.0->friendli-app) (1.1.0)\n",
      "Requirement already satisfied: sniffio>=1.1 in /usr/local/lib/python3.12/dist-packages (from anyio->httpx>=0.28.0->httpx[http2]>=0.28.0->friendli-app) (1.3.1)\n",
      "Requirement already satisfied: hyperframe<7,>=6.1 in /usr/local/lib/python3.12/dist-packages (from h2<5,>=3->httpx[http2]>=0.28.0->friendli-app) (6.1.0)\n",
      "Requirement already satisfied: hpack<5,>=4.1 in /usr/local/lib/python3.12/dist-packages (from h2<5,>=3->httpx[http2]>=0.28.0->friendli-app) (4.1.0)\n",
      "Requirement already satisfied: mdurl~=0.1 in /usr/local/lib/python3.12/dist-packages (from markdown-it-py>=2.2.0->rich>=13.9.0->friendli-app) (0.1.2)\n",
      "Requirement already satisfied: wcwidth in /usr/local/lib/python3.12/dist-packages (from prompt_toolkit<4.0,>=2.0->questionary>=2.0.1->friendli-app) (0.2.13)\n",
      "Requirement already satisfied: platformdirs<5,>=3.6.0 in /usr/local/lib/python3.12/dist-packages (from textual>=0.61.0->trogon>=0.6.0->friendli-app) (4.3.8)\n",
      "Requirement already satisfied: linkify-it-py<3,>=1 in /usr/local/lib/python3.12/dist-packages (from markdown-it-py[linkify,plugins]>=2.1.0->textual>=0.61.0->trogon>=0.6.0->friendli-app) (2.0.3)\n",
      "Requirement already satisfied: mdit-py-plugins>=0.5.0 in /usr/local/lib/python3.12/dist-packages (from markdown-it-py[linkify,plugins]>=2.1.0->textual>=0.61.0->trogon>=0.6.0->friendli-app) (0.5.0)\n",
      "Requirement already satisfied: uc-micro-py in /usr/local/lib/python3.12/dist-packages (from linkify-it-py<3,>=1->markdown-it-py[linkify,plugins]>=2.1.0->textual>=0.61.0->trogon>=0.6.0->friendli-app) (1.0.3)\n"
     ]
    }
   ],
   "source": [
    "%%capture\n",
    "!pip install -U friendli-app\n",
    "!pip install -U friendli-gradio"
   ]
  },
  {
   "cell_type": "code",
   "execution_count": 24,
   "metadata": {
    "colab": {
     "base_uri": "https://localhost:8080/"
    },
    "executionInfo": {
     "elapsed": 1635,
     "status": "ok",
     "timestamp": 1755861168172,
     "user": {
      "displayName": "민웅기",
      "userId": "09229203889816762802"
     },
     "user_tz": -540
    },
    "id": "R3nB_FMZZYnK",
    "outputId": "1727248e-5c22-4b2a-d4ef-77e195672bd2"
   },
   "outputs": [
    {
     "name": "stdout",
     "output_type": "stream",
     "text": [
      "Hi, \u001b[1mminpeter\u001b[0m.\n"
     ]
    }
   ],
   "source": [
    "# NOTE: need to set colab secret\n",
    "from google.colab import userdata\n",
    "import os\n",
    "\n",
    "fai_token = userdata.get('FRIENDLI_TOKEN')\n",
    "os.environ['FRIENDLI_TOKEN'] = fai_token\n",
    "\n",
    "!fa whoami"
   ]
  },
  {
   "cell_type": "code",
   "execution_count": null,
   "metadata": {
    "colab": {
     "base_uri": "https://localhost:8080/"
    },
    "executionInfo": {
     "elapsed": 1280,
     "status": "ok",
     "timestamp": 1755861381015,
     "user": {
      "displayName": "민웅기",
      "userId": "09229203889816762802"
     },
     "user_tz": -540
    },
    "id": "Hz0QViCTu4lv",
    "outputId": "c974371c-ddab-4d11-b8f2-b47c4224e683"
   },
   "outputs": [
    {
     "name": "stdout",
     "output_type": "stream",
     "text": [
      "/content/aws-hackday-micro\n",
      "assets\t\t   CLAUDE.md  Makefile\t   pyproject.toml  src\n",
      "aws-hackday-micro  examples   MANIFEST.in  README.md\t   uv.lock\n",
      "/content/aws-hackday-micro\n",
      "🚀 Deploying app from \u001b[32m'examples/async-crewai-agent'\u001b[0m\n",
      "   Detected \u001b[32m'pyproject.toml'\u001b[0m.\n",
      "\u001b[1;32m✅ App \u001b[0m\u001b[1;32m'creweai-demo'\u001b[0m\u001b[1;32m \u001b[0m\u001b[1;32m(\u001b[0m\u001b[1;32mhulshkguni0m\u001b[0m\u001b[1;32m)\u001b[0m\u001b[1;32m deploy triggered successfully.\u001b[0m\n",
      "   View status and usage details in the \u001b[32m'Overview'\u001b[0m tab:\n",
      "   \u001b[4;94mhttps://friendli.ai/suite/default-team/707Uj41csbf9/apps/hulshkguni0m/overvie\u001b[0m\n",
      "\u001b[4;94mw\u001b[0m\n"
     ]
    }
   ],
   "source": [
    "%cd /content/aws-hackday-micro\n",
    "!ls\n",
    "!pwd\n",
    "!fa deploy examples/async-crewai-agent --name friendli-crewai-demo"
   ]
  },
  {
   "cell_type": "code",
   "execution_count": null,
   "metadata": {
    "colab": {
     "base_uri": "https://localhost:8080/",
     "height": 612
    },
    "id": "y7xmgQM8xKjR",
    "outputId": "10bce7e5-a79c-43ea-cba8-58135a6a954f"
   },
   "outputs": [
    {
     "name": "stdout",
     "output_type": "stream",
     "text": [
      "Colab notebook detected. This cell will run indefinitely so that you can see errors and logs. To turn off, set debug=False in launch().\n",
      "* Running on public URL: https://1329dfa07e7868f22d.gradio.live\n",
      "\n",
      "This share link expires in 1 week. For free permanent hosting and GPU upgrades, run `gradio deploy` from the terminal in the working directory to deploy to Hugging Face Spaces (https://huggingface.co/spaces)\n"
     ]
    },
    {
     "data": {
      "text/html": [
       "<div><iframe src=\"https://1329dfa07e7868f22d.gradio.live\" width=\"100%\" height=\"500\" allow=\"autoplay; camera; microphone; clipboard-read; clipboard-write;\" frameborder=\"0\" allowfullscreen></iframe></div>"
      ],
      "text/plain": [
       "<IPython.core.display.HTML object>"
      ]
     },
     "metadata": {},
     "output_type": "display_data"
    }
   ],
   "source": [
    "import gradio as gr\n",
    "import friendli_gradio\n",
    "\n",
    "gr.load(\n",
    "    name='Qwen/Qwen3-235B-A22B-Instruct-2507',\n",
    "    src=friendli_gradio.registry,\n",
    "    base_url=\"https://api.friendli.ai/inference/hulshkguni0m/v1\"\n",
    ").launch(share=True, debug=True)"
   ]
  }
 ],
 "metadata": {
  "colab": {
   "authorship_tag": "ABX9TyNbmiV3v5zmI/txH8z50/zq",
   "provenance": []
  },
  "kernelspec": {
   "display_name": "Python 3",
   "name": "python3"
  },
  "language_info": {
   "name": "python"
  }
 },
 "nbformat": 4,
 "nbformat_minor": 0
}
